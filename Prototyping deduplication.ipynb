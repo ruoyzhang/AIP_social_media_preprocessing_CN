{
 "cells": [
  {
   "cell_type": "markdown",
   "metadata": {},
   "source": [
    "## We want to be able to do a couple things in this repo:\n",
    "0. checking consistancy and general sanity check\n",
    "1. deduplicate (naïve if faster)\n",
    "2. tokenisation\n",
    "3. stop-words removal\n",
    "4. others"
   ]
  },
  {
   "cell_type": "code",
   "execution_count": 36,
   "metadata": {},
   "outputs": [],
   "source": [
    "# reserved for libraries\n",
    "import os\n",
    "import datetime\n",
    "import tqdm"
   ]
  },
  {
   "cell_type": "code",
   "execution_count": 5,
   "metadata": {},
   "outputs": [],
   "source": [
    "# data dir\n",
    "data_dir = \"../master_thesis_data/weibo_raw\""
   ]
  },
  {
   "cell_type": "code",
   "execution_count": 9,
   "metadata": {},
   "outputs": [],
   "source": [
    "# finding all files and seperating them into dates and tweets\n",
    "all_files = os.listdir(data_dir)\n",
    "\n",
    "all_texts = [file for file in all_files if file.split('.')[0][-5:] == 'texts']\n",
    "all_dates = [file for file in all_files if file.split('.')[0][-5:] == 'dates']"
   ]
  },
  {
   "cell_type": "code",
   "execution_count": 21,
   "metadata": {},
   "outputs": [
    {
     "data": {
      "text/plain": [
       "(1084, 1084, 1095)"
      ]
     },
     "execution_count": 21,
     "metadata": {},
     "output_type": "execute_result"
    }
   ],
   "source": [
    "# how many days of data did we actually get\n",
    "len(all_texts), len(all_dates), 365 * 3"
   ]
  },
  {
   "cell_type": "code",
   "execution_count": 27,
   "metadata": {},
   "outputs": [
    {
     "data": {
      "text/plain": [
       "1084"
      ]
     },
     "execution_count": 27,
     "metadata": {},
     "output_type": "execute_result"
    }
   ],
   "source": [
    "# if they match up\n",
    "actual_dates_0 = sorted([text.split('_')[1] for text in all_texts])\n",
    "actual_dates_1 = sorted([date.split('_')[1] for date in all_dates])\n",
    "\n",
    "matches = [actual_dates_0[i] == actual_dates_1[i] for i in range(len(actual_dates_0))]\n",
    "sum(matches)"
   ]
  },
  {
   "cell_type": "markdown",
   "metadata": {},
   "source": [
    "It seems though we managed to scrape data from nearly all dates and the 'date' labels are correctly matched, let's check using datetime which dates we're missing"
   ]
  },
  {
   "cell_type": "code",
   "execution_count": 32,
   "metadata": {},
   "outputs": [],
   "source": [
    "# setting limits\n",
    "starting_date = datetime.datetime.strptime('2016-4-17', '%Y-%m-%d')\n",
    "end_date = datetime.datetime.strptime('2019-4-17', '%Y-%m-%d')"
   ]
  },
  {
   "cell_type": "code",
   "execution_count": 37,
   "metadata": {},
   "outputs": [],
   "source": [
    "# converting to datetime format\n",
    "actual_dates = [datetime.datetime.strptime(date, '%Y-%m-%d') for date in actual_dates_0]"
   ]
  },
  {
   "cell_type": "code",
   "execution_count": null,
   "metadata": {},
   "outputs": [],
   "source": [
    "# finding which dates are missing\n",
    "missing_dates = []\n",
    "while starting_date != end_date:\n",
    "    if starting_date not in actual_dates:\n",
    "        missing_dates.append(starting_date)\n",
    "    starting_date + datetime.timedelta(days = 1)"
   ]
  },
  {
   "cell_type": "code",
   "execution_count": null,
   "metadata": {},
   "outputs": [],
   "source": [
    "len(missing_dates)"
   ]
  },
  {
   "cell_type": "code",
   "execution_count": null,
   "metadata": {},
   "outputs": [],
   "source": []
  },
  {
   "cell_type": "code",
   "execution_count": null,
   "metadata": {},
   "outputs": [],
   "source": []
  }
 ],
 "metadata": {
  "kernelspec": {
   "display_name": "Python 3",
   "language": "python",
   "name": "python3"
  },
  "language_info": {
   "codemirror_mode": {
    "name": "ipython",
    "version": 3
   },
   "file_extension": ".py",
   "mimetype": "text/x-python",
   "name": "python",
   "nbconvert_exporter": "python",
   "pygments_lexer": "ipython3",
   "version": "3.6.4"
  }
 },
 "nbformat": 4,
 "nbformat_minor": 2
}
